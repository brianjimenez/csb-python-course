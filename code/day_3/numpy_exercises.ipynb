{
 "cells": [
  {
   "cell_type": "markdown",
   "metadata": {},
   "source": [
    "### Exercise 1\n",
    "Build 8x8 matrix following a pattern 0/1 like a chess board. It should look like:\n",
    "\n",
    "```\n",
    "[[0 1 0 1 0 1 0 1]\n",
    "[1 0 1 0 1 0 1 0]\n",
    "[0 1 0 1 0 1 0 1]\n",
    "[1 0 1 0 1 0 1 0]\n",
    "[0 1 0 1 0 1 0 1]\n",
    "[1 0 1 0 1 0 1 0]\n",
    "[0 1 0 1 0 1 0 1]\n",
    "[1 0 1 0 1 0 1 0]]\n",
    "```"
   ]
  },
  {
   "cell_type": "code",
   "execution_count": null,
   "metadata": {},
   "outputs": [],
   "source": []
  },
  {
   "cell_type": "markdown",
   "metadata": {},
   "source": [
    "### Exercise 2\n",
    "Calculate the mean and the standard deviation of a random array of 100 elements:"
   ]
  },
  {
   "cell_type": "code",
   "execution_count": null,
   "metadata": {},
   "outputs": [],
   "source": []
  },
  {
   "cell_type": "markdown",
   "metadata": {},
   "source": [
    "### Exercise 3\n",
    "Evaluate sin and arcosin in the [-1,1] interval with a resolution of 0.05:"
   ]
  },
  {
   "cell_type": "code",
   "execution_count": null,
   "metadata": {},
   "outputs": [],
   "source": []
  },
  {
   "cell_type": "markdown",
   "metadata": {},
   "source": [
    "### Exercise 4\n",
    "Calculate the RMSD (https://en.wikipedia.org/wiki/Root-mean-square_deviation_of_atomic_positions) between these two poses of the same structure:\n"
   ]
  },
  {
   "cell_type": "code",
   "execution_count": null,
   "metadata": {},
   "outputs": [],
   "source": [
    "import numpy as np\n",
    "import os\n",
    "\n",
    "\n",
    "pose_1 = \"\"\"\n",
    "HETATM    1  C4  AIN A 141      20.988  20.013   8.918  1.00 32.08           C\n",
    "HETATM    2  C3  AIN A 141      19.732  19.385   8.857  1.00 32.34           C\n",
    "HETATM    3  C2  AIN A 141      19.527  18.104   9.636  1.00 33.22           C\n",
    "HETATM    4  C5  AIN A 141      21.977  19.496   9.752  1.00 31.39           C\n",
    "HETATM    5  H4  AIN A 141      21.183  20.890   8.320  1.00  0.00           H\n",
    "HETATM    6  C6  AIN A 141      21.761  18.347  10.492  1.00 31.52           C\n",
    "HETATM    7  H5  AIN A 141      22.932  19.991   9.830  1.00  0.00           H\n",
    "HETATM    8  C1  AIN A 141      20.570  17.658  10.434  1.00 32.96           C\n",
    "HETATM    9  H6  AIN A 141      22.537  17.967  11.139  1.00  0.00           H\n",
    "HETATM   10  H1  AIN A 141      20.440  16.756  11.015  1.00  0.00           H\n",
    "HETATM   11  C7  AIN A 141      18.679  19.893   7.921  1.00 32.12           C\n",
    "HETATM   12  O1  AIN A 141      18.856  21.012   7.231  1.00 28.52           O\n",
    "HETATM   13  O2  AIN A 141      17.582  19.373   7.818  1.00 32.90           O\n",
    "HETATM   14  O3  AIN A 141      18.290  17.505   9.519  1.00 35.01           O\n",
    "HETATM   15  C8  AIN A 141      17.117  17.595  10.410  1.00 35.75           C\n",
    "HETATM   16  O4  AIN A 141      16.308  16.678  10.381  1.00 37.46           O\n",
    "HETATM   17  C9  AIN A 141      16.879  18.753  11.344  1.00 36.44           C\n",
    "HETATM   18  H91 AIN A 141      15.952  18.591  11.895  1.00  0.00           H\n",
    "HETATM   19  H92 AIN A 141      17.709  18.830  12.046  1.00  0.00           H\n",
    "HETATM   20  H93 AIN A 141      16.803  19.676  10.769  1.00  0.00           H\n",
    "\"\"\"\n",
    "\n",
    "pose_2 = \"\"\"\n",
    "HETATM    1  C4  AIN A 141      20.909  19.934   8.896  1.00 32.08           C\n",
    "HETATM    2  C3  AIN A 141      19.652  19.312   8.766  1.00 32.34           C\n",
    "HETATM    3  C2  AIN A 141      19.387  18.158   9.565  1.00 33.22           C\n",
    "HETATM    4  C5  AIN A 141      21.860  19.487   9.821  1.00 31.39           C\n",
    "HETATM    5  H4  AIN A 141      21.131  20.820   8.331  1.00  0.00           H\n",
    "HETATM    6  C6  AIN A 141      21.586  18.379  10.634  1.00 31.52           C\n",
    "HETATM    7  H5  AIN A 141      22.771  20.048   9.926  1.00  0.00           H\n",
    "HETATM    8  C1  AIN A 141      20.364  17.703  10.480  1.00 32.96           C\n",
    "HETATM    9  H6  AIN A 141      22.314  18.043  11.358  1.00  0.00           H\n",
    "HETATM   10  H1  AIN A 141      20.171  16.825  11.079  1.00  0.00           H\n",
    "HETATM   11  C7  AIN A 141      18.638  19.970   7.867  1.00 32.12           C\n",
    "HETATM   12  O1  AIN A 141      18.979  20.954   7.165  1.00 28.52           O\n",
    "HETATM   13  O2  AIN A 141      17.431  19.667   7.937  1.00 32.90           O\n",
    "HETATM   14  O3  AIN A 141      18.249  17.398   9.458  1.00 35.01           O\n",
    "HETATM   15  C8  AIN A 141      17.235  17.488  10.335  1.00 35.75           C\n",
    "HETATM   16  O4  AIN A 141      16.343  16.644  10.397  1.00 37.46           O\n",
    "HETATM   17  C9  AIN A 141      17.211  18.698  11.261  1.00 36.44           C\n",
    "HETATM   18  H91 AIN A 141      16.416  18.581  11.994  1.00  0.00           H\n",
    "HETATM   19  H92 AIN A 141      18.154  18.814  11.795  1.00  0.00           H\n",
    "HETATM   20  H93 AIN A 141      17.020  19.587  10.663  1.00  0.00           H\n",
    "\"\"\"\n",
    "\n",
    "def read_atom_coordinates(line):\n",
    "    if line.startswith('HETATM'):\n",
    "        x = float(line[30:38])\n",
    "        y = float(line[38:46])\n",
    "        z = float(line[46:54])\n",
    "        return [x, y, z]\n",
    "\n",
    "    \n",
    "def get_coordinates(structure):\n",
    "    coordinates = []\n",
    "    for line in structure.split(os.linesep):\n",
    "        atom = read_atom_coordinates(line)\n",
    "        if atom:\n",
    "            coordinates.append(atom)\n",
    "    return np.array(coordinates)\n",
    "\n",
    "\n",
    "def rmsd_numpy(coord_1, coord_2):\n",
    "    rmsd = 0.0\n",
    "    return rmsd\n",
    "\n",
    "\n",
    "coordinates_1 = get_coordinates(pose_1)\n",
    "coordinates_2 = get_coordinates(pose_2)\n",
    "\n",
    "rmsd = rmsd_numpy(coordinates_1, coordinates_2)\n",
    "\n",
    "print(rmsd)"
   ]
  },
  {
   "cell_type": "markdown",
   "metadata": {},
   "source": [
    "**Result is `0.253808096798`**"
   ]
  }
 ],
 "metadata": {
  "kernelspec": {
   "display_name": "Python 3",
   "language": "python",
   "name": "python3"
  },
  "language_info": {
   "codemirror_mode": {
    "name": "ipython",
    "version": 3
   },
   "file_extension": ".py",
   "mimetype": "text/x-python",
   "name": "python",
   "nbconvert_exporter": "python",
   "pygments_lexer": "ipython3",
   "version": "3.7.2"
  }
 },
 "nbformat": 4,
 "nbformat_minor": 1
}
